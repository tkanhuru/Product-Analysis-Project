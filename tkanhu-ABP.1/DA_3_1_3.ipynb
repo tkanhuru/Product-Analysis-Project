{
  "nbformat": 4,
  "nbformat_minor": 0,
  "metadata": {
    "colab": {
      "name": "DA_3_1_3.ipynb",
      "provenance": [],
      "collapsed_sections": []
    },
    "kernelspec": {
      "name": "python3",
      "display_name": "Python 3"
    },
    "language_info": {
      "name": "python"
    }
  },
  "cells": [
    {
      "cell_type": "markdown",
      "source": [
        "# Module 3: Analyzing Business Problems\n",
        "## Sprint 1: Product Analyst\n",
        "## Part 3: Graded task\n",
        "\n",
        "You have a follow up task from your product manager to identify how much time it takes for a user to make a purchase on your website. Your PM would like to see the duration from first visit of a user on a particular day until first purchase on that same day. Your final result should show the duration dynamic daily.\n",
        "\n",
        "- Create a presentation centered around the dynamic daily duration.\n",
        "- See whether you can apply 1-2 techniques learned in this module course material to enhance your presentation on this subject.\n",
        "- Explore the data. See whether there are interesting data points that can give more insights to your presentation.\n",
        "- Provide analytical insights, what are the drawbacks of this analysis, what further analysis could you recommend? \n",
        "\n",
        "\n",
        "You should use the [turing_data_analytics.raw_events](https://console.cloud.google.com/bigquery?authuser=3&project=tc-da-1&ws=!1m14!1m3!8m2!1s756497109418!2s1b8fa7cb3d73401f81fea1591fa615a7!1m4!4m3!1stc-da-1!2sturing_data_analytics!3sstackoverflow_posts!1m4!4m3!1stc-da-1!2sturing_data_analytics!3sraw_events&d=turing_data_analytics&p=tc-da-1&t=raw_events&page=table) table to answer this question. Please write a SQL that would extract data from the BigQuery, make a visualisation using Google spreadsheets and comment your findings.\n",
        "\n",
        "## Evaluation criteria for a Graded project submission\n",
        "- SQL, correct columns identified to make analysis.\n",
        "- SQL, correct logic created to make analysis.\n",
        "- SQL, code formatted well and is readable.\n",
        "- Google Sheets, visualisation is clear and communicates the message/answer.\n",
        "- Analysis, findings and main points clearly structured.\n",
        "- Analytical approach to the problem\n",
        "\n",
        "During a task review, you may get asked questions that test your understanding of covered topics.\n",
        "\n",
        "**Sample questions**:\n",
        "\n",
        "- What is the very first step in understanding your users?\n",
        "- What is counterfactual?\n",
        "- What is confirmation bias and how to avoid it?\n",
        "- What are the main users' engagement metrics?\n",
        "- What is clickstream data?\n",
        "\n",
        "## Submission\n",
        "Upload all solution files for this graded task to your GitHub repository using the \"Add File\" function.\n",
        "\n",
        "\n",
        "<br>\n",
        "\n",
        "## Accessing the next notebook:\n",
        "After you schedule your project reviews, you can already start working on the next part from the upcoming sprint. To access it, go to https://github.com/TuringCollegeSubmissions/DA.3.2.1. If you need access to additional parts of the next sprint, contact Giedrius Zebrauskas via Discord. Once the project review is completed, you will see this content in the Turing platform normally.\n",
        "\n"
      ],
      "metadata": {
        "id": "7Po7IuMT6mfk"
      }
    }
  ]
}